{
 "cells": [
  {
   "cell_type": "markdown",
   "metadata": {},
   "source": [
    "<p>1) How-to-count-distance-to-the-previous-zero</p>\n",
    "<p>For each value, count the difference of the distance from the previous zero (or the start\n",
    "of the Series, whichever is closer) and if there are no previous zeros,print the position</p>\n",
    " <p>Consider a DataFrame df where there is an integer column {'X':[7, 2, 0, 3, 4, 2, 5, 0, 3, 4]}</p>\n",
    " <p>The values should therefore be [1, 2, 0, 1, 2, 3, 4, 0, 1, 2]. Make this a new column 'Y'.</p>\n",
    "<p>import pandas as pd</p>\n",
    "<p>df = pd.DataFrame({'X': [7, 2, 0, 3, 4, 2, 5, 0, 3, 4]})</p>\n"
   ]
  },
  {
   "cell_type": "code",
   "execution_count": 202,
   "metadata": {},
   "outputs": [
    {
     "name": "stdout",
     "output_type": "stream",
     "text": [
      "   X  Y\n",
      "0  7  0\n",
      "1  2  1\n",
      "2  0  0\n",
      "3  3  1\n",
      "4  4  2\n",
      "5  2  3\n",
      "6  5  4\n",
      "7  0  0\n",
      "8  3  1\n",
      "9  4  2\n"
     ]
    }
   ],
   "source": [
    "import pandas as pd\n",
    "import numpy as np\n",
    "#Define dataframe\n",
    "df = pd.DataFrame({'X': [7, 2, 0, 3, 4, 2, 5, 0, 3, 4]})\n",
    "df_series=df['X']\n",
    "final_list=[]\n",
    "prev_index=0\n",
    "#Calculate the previous zero value\n",
    "for i in df_series.index:\n",
    "    if df_series[i] == 0:\n",
    "        final_list.append(0)\n",
    "        prev_index=i\n",
    "    else:\n",
    "        j=i-prev_index\n",
    "        final_list.append(j)\n",
    "#Add new column and assign valve        \n",
    "df['Y']=final_list\n",
    "#print dataframe\n",
    "print(df)\n"
   ]
  },
  {
   "cell_type": "markdown",
   "metadata": {},
   "source": [
    "<p>2) Create a DatetimeIndex that contains each business day of 2015 and use it to index a\n",
    "Series of random numbers.</p>"
   ]
  },
  {
   "cell_type": "code",
   "execution_count": 203,
   "metadata": {},
   "outputs": [
    {
     "data": {
      "text/plain": [
       "2015-01-01    0.187484\n",
       "2015-01-02    0.558220\n",
       "2015-01-05    0.401233\n",
       "2015-01-06    0.747688\n",
       "2015-01-07    0.011184\n",
       "2015-01-08    0.224340\n",
       "2015-01-09    0.389250\n",
       "2015-01-12    0.542229\n",
       "2015-01-13    0.410094\n",
       "2015-01-14    0.246027\n",
       "2015-01-15    0.801266\n",
       "2015-01-16    0.956782\n",
       "2015-01-19    0.999903\n",
       "2015-01-20    0.607301\n",
       "2015-01-21    0.920662\n",
       "2015-01-22    0.019465\n",
       "2015-01-23    0.361695\n",
       "2015-01-26    0.881382\n",
       "2015-01-27    0.904362\n",
       "2015-01-28    0.992686\n",
       "2015-01-29    0.076846\n",
       "2015-01-30    0.049178\n",
       "2015-02-02    0.182998\n",
       "2015-02-03    0.408262\n",
       "2015-02-04    0.753046\n",
       "2015-02-05    0.686592\n",
       "2015-02-06    0.909690\n",
       "2015-02-09    0.867524\n",
       "2015-02-10    0.942690\n",
       "2015-02-11    0.820676\n",
       "                ...   \n",
       "2015-11-20    0.883195\n",
       "2015-11-23    0.452009\n",
       "2015-11-24    0.192640\n",
       "2015-11-25    0.310941\n",
       "2015-11-26    0.387326\n",
       "2015-11-27    0.725717\n",
       "2015-11-30    0.365169\n",
       "2015-12-01    0.798919\n",
       "2015-12-02    0.166430\n",
       "2015-12-03    0.358726\n",
       "2015-12-04    0.624940\n",
       "2015-12-07    0.095591\n",
       "2015-12-08    0.613766\n",
       "2015-12-09    0.241979\n",
       "2015-12-10    0.325936\n",
       "2015-12-11    0.740012\n",
       "2015-12-14    0.227909\n",
       "2015-12-15    0.354373\n",
       "2015-12-16    0.122206\n",
       "2015-12-17    0.853578\n",
       "2015-12-18    0.664286\n",
       "2015-12-21    0.710186\n",
       "2015-12-22    0.307180\n",
       "2015-12-23    0.419059\n",
       "2015-12-24    0.575181\n",
       "2015-12-25    0.533934\n",
       "2015-12-28    0.191772\n",
       "2015-12-29    0.588617\n",
       "2015-12-30    0.944598\n",
       "2015-12-31    0.207446\n",
       "Freq: B, Name: VALUE, Length: 261, dtype: float64"
      ]
     },
     "execution_count": 203,
     "metadata": {},
     "output_type": "execute_result"
    }
   ],
   "source": [
    "import random\n",
    "#Define date time index\n",
    "dti_vals=pd.DatetimeIndex(freq='B',start='2015',end='2016',closed='left')\n",
    "#Define random numbers\n",
    "ran_num=np.random.rand(dti_vals.size)\n",
    "#Create series\n",
    "final_series=pd.Series(ran_num,index=dti_vals,name='VALUE')\n",
    "final_series\n",
    "\n"
   ]
  },
  {
   "cell_type": "markdown",
   "metadata": {},
   "source": [
    "<p>3) Find the sum of the values in s for every Wednesday<p>"
   ]
  },
  {
   "cell_type": "code",
   "execution_count": 204,
   "metadata": {},
   "outputs": [
    {
     "name": "stdout",
     "output_type": "stream",
     "text": [
      "Sum of values of for every Wednesday is 27.96847635435178\n"
     ]
    }
   ],
   "source": [
    "#import datetime library\n",
    "import datetime as dt\n",
    "s = 0\n",
    "#calculate sum by converting date into weekday and comparing it with 2(wednesday)\n",
    "for i in final_series.index:\n",
    "    if dt.datetime(i.year,i.month,i.day).weekday() == 2:\n",
    "        s=s+final_series[i]\n",
    "#Print the sum        \n",
    "print(\"Sum of values of for every Wednesday is {}\".format(s))        "
   ]
  },
  {
   "cell_type": "markdown",
   "metadata": {},
   "source": [
    "<p>4) Average For each calendar month</p>"
   ]
  },
  {
   "cell_type": "code",
   "execution_count": 205,
   "metadata": {},
   "outputs": [
    {
     "name": "stdout",
     "output_type": "stream",
     "text": [
      "Average for January is : 0.396155830870971\n",
      "Average for February is : 0.25886009325648224\n",
      "Average for March is : 0.5306170804834941\n",
      "Average for April is : 0.007937276798777558\n",
      "Average for May is : 0.15197194501774078\n",
      "Average for June is : 0.2762419828984454\n",
      "Average for July is : 0.4022992035201998\n",
      "Average for August is : 0.27780542013243625\n",
      "Average for September is : 0.17460009205961577\n",
      "Average for October is : 0.5686401682496505\n",
      "Average for November is : 0.6481428809668165\n",
      "Average for December is : 0.7418632903390388\n"
     ]
    }
   ],
   "source": [
    "#import calander\n",
    "import calendar as c\n",
    "#loop through to find sum\n",
    "for i in range(1,13):\n",
    "    s = 0.0\n",
    "    for j in final_series.index:\n",
    "        if j.month == i:\n",
    "            s=s+final_series[i]\n",
    "    no_days=c.monthrange(j.year,j.month)[1]\n",
    "#Calculate average\n",
    "    avg = s / no_days\n",
    "#rintresult\n",
    "    print(\"Average for {} is : {}\".format(c.month_name[i],avg))\n",
    "\n",
    "            "
   ]
  },
  {
   "cell_type": "markdown",
   "metadata": {},
   "source": [
    "<p>5) For each group of four consecutive calendar months in s, find the date on which the\n",
    "highest value occurred.</p>"
   ]
  },
  {
   "cell_type": "code",
   "execution_count": 296,
   "metadata": {},
   "outputs": [
    {
     "name": "stdout",
     "output_type": "stream",
     "text": [
      "Date on which highest value occured is : 2015-01-19 00:00:00\n",
      "Date on which highest value occured is : 2015-03-09 00:00:00\n",
      "Date on which highest value occured is : 2015-08-03 00:00:00\n",
      "Date on which highest value occured is : 2015-12-30 00:00:00\n"
     ]
    }
   ],
   "source": [
    "#resampe to group the values\n",
    "series_resample=final_series.resample('4M',closed='right').max()\n",
    "df=pd.DataFrame(final_series)\n",
    "#print the result\n",
    "for i in series_resample.values:\n",
    "    print(\"Date on which highest value occured is : {}\".format(df[df['VALUE'] == i].index.tolist()[0]))\n",
    "\n"
   ]
  },
  {
   "cell_type": "code",
   "execution_count": null,
   "metadata": {},
   "outputs": [],
   "source": []
  }
 ],
 "metadata": {
  "kernelspec": {
   "display_name": "Python 3",
   "language": "python",
   "name": "python3"
  },
  "language_info": {
   "codemirror_mode": {
    "name": "ipython",
    "version": 3
   },
   "file_extension": ".py",
   "mimetype": "text/x-python",
   "name": "python",
   "nbconvert_exporter": "python",
   "pygments_lexer": "ipython3",
   "version": "3.6.5"
  }
 },
 "nbformat": 4,
 "nbformat_minor": 2
}
